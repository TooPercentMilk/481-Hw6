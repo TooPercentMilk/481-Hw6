{
 "cells": [
  {
   "cell_type": "code",
   "execution_count": 6,
   "metadata": {},
   "outputs": [],
   "source": [
    "from datetime import datetime\n",
    "from dateutil.parser import isoparse\n",
    "import sys\n",
    "\n",
    "'''\n",
    "Issue 115783 of cpython\n",
    "Since Python 3.11, datetime.fromisoformat(...) accepts invalid timestamps.\n",
    "The same code was tested in many Python versions via GitHub Actions:\n",
    "\n",
    "Wrong format: 2024-01-17T15:21:00-0800\n",
    "Fixed format: 2024-01-17T15:21:00-08:00\n",
    "'''\n",
    "\n",
    "# correct run\n",
    "def test_correct1():\n",
    "    try:\n",
    "        datetime.fromisoformat(\"2024-01-17T15:21:00-08:00\")\n",
    "        # True positive\n",
    "        print(\"test_correct1 - PASSED\")\n",
    "    except ValueError:\n",
    "        # False negative trigger [incorrect]\n",
    "        print(\"test_correct1 - FAILED\")\n",
    "\n",
    "def test_fails(in_stamp, i):\n",
    "    try:\n",
    "        datetime.fromisoformat(in_stamp)\n",
    "        # False positive\n",
    "        print(f\"test_fail{i} - FAILED\")\n",
    "    except ValueError:\n",
    "        # True negative trigger [incorrect]\n",
    "        print(f\"test_fail{i} - PASSED\")\n",
    "\n",
    "\n",
    "def fail_driver():\n",
    "    stamps = [\"2024-01-17T15:21:00-0800\", \"2024-01-17T15:21:00-0800\", \"2024-01-17T152100-08:00\", \\\n",
    "            \"20240117T15:21:00-08:00\", \"2024-01-17T152100-0800\", \\\n",
    "            \"20240117T15:21:00-0800\", \"20240117T152100-08:00\"]\n",
    "    i = 0\n",
    "    for s in stamps:\n",
    "        test_fails(s, i)\n",
    "        i += 1\n",
    "\n",
    "def test_dateutil_fails(in_stamp, i):\n",
    "    try:\n",
    "        isoparse(in_stamp)\n",
    "        # False positive\n",
    "        print(f\"test_util_fail{i} - FAILED\")\n",
    "    except ValueError:\n",
    "        # True negative trigger [incorrect]\n",
    "        print(f\"test_util_fail{i} - PASSED\")\n",
    "\n",
    "def util_driver():\n",
    "    i = 0\n",
    "    stamps = [\"2024-01-17T15:21:00-0800\",\n",
    "            \"2024-01-17T152100-08:00\",\n",
    "            \"20240117T15:21:00-08:00\",\n",
    "            \"2024-01-17T152100-0800\",\n",
    "            \"20240117T15:21:00-0800\",\n",
    "            \"20240117T152100-08:00\"]\n",
    "    \n",
    "    for s in stamps:\n",
    "        test_dateutil_fails(s, i)\n",
    "        i += 1"
   ]
  },
  {
   "cell_type": "code",
   "execution_count": 7,
   "metadata": {},
   "outputs": [
    {
     "name": "stdout",
     "output_type": "stream",
     "text": [
      "Python version 3.10.11 | packaged by conda-forge | (main, May 10 2023, 19:01:19) [Clang 14.0.6 ]\n",
      "test_correct1 - PASSED\n",
      "test_fail0 - PASSED\n",
      "test_fail1 - PASSED\n",
      "test_fail2 - PASSED\n",
      "test_fail3 - PASSED\n",
      "test_fail4 - PASSED\n",
      "test_fail5 - PASSED\n",
      "test_fail6 - PASSED\n",
      "test_util_fail0 - FAILED\n",
      "test_util_fail1 - FAILED\n",
      "test_util_fail2 - FAILED\n",
      "test_util_fail3 - FAILED\n",
      "test_util_fail4 - FAILED\n",
      "test_util_fail5 - FAILED\n"
     ]
    }
   ],
   "source": [
    "# Testing\n",
    "print(f\"Python version {sys.version}\")\n",
    "test_correct1()\n",
    "fail_driver()\n",
    "util_driver()"
   ]
  }
 ],
 "metadata": {
  "kernelspec": {
   "display_name": "env",
   "language": "python",
   "name": "python3"
  },
  "language_info": {
   "codemirror_mode": {
    "name": "ipython",
    "version": 3
   },
   "file_extension": ".py",
   "mimetype": "text/x-python",
   "name": "python",
   "nbconvert_exporter": "python",
   "pygments_lexer": "ipython3",
   "version": "3.10.11"
  }
 },
 "nbformat": 4,
 "nbformat_minor": 2
}
