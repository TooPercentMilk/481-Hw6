{
 "cells": [
  {
   "cell_type": "code",
   "execution_count": 1,
   "metadata": {},
   "outputs": [],
   "source": [
    "def compare(file1, file2):\n",
    "    with open(file1, 'r') as file1:\n",
    "        content1 = file1.read()\n",
    "    with open(file2, 'r') as file2:\n",
    "        content2 = file2.read()\n",
    "    if content1 == content2:\n",
    "        return True\n",
    "    else:\n",
    "        return False\n",
    "\n",
    "def restore(modified, original):\n",
    "    for m, o in zip(modified, original):\n",
    "        with open(o, 'r') as src_file:\n",
    "            content = src_file.read()\n",
    "        with open(m, 'w') as dest_file:\n",
    "            dest_file.write(content)\n",
    "        src_file.close()\n",
    "        dest_file.close()\n",
    "\n",
    "\n",
    "def test1a():\n",
    "    filename = 'test1.txt'\n",
    "    with open(filename, \"r+\") as my_file:\n",
    "        my_file.write(\"========\")\n",
    "        r = my_file.readline()\n",
    "    if compare('test1.txt', 'test1_corr.txt'):\n",
    "        print('Test 1a - PASSED')\n",
    "    else:\n",
    "        print('Test 1a - FAILED')\n",
    "\n",
    "\n",
    "def test1b():\n",
    "    filename = 'test1.txt'\n",
    "    with open(filename, \"r+\") as my_file:\n",
    "        my_file.write(\"========\")\n",
    "    if compare('test1.txt', 'test1_corr.txt'):\n",
    "        print('Test 1b - PASSED')\n",
    "    else:\n",
    "        print('Test 1b - FAILED')\n",
    "\n",
    "def test2a():\n",
    "    filename = 'test2.txt'\n",
    "    f = open(filename, 'r+')\n",
    "    f.write('....')\n",
    "    f.read()\n",
    "    if compare('test2.txt', 'test2_corr.txt'):\n",
    "        print('Test 2a - PASSED')\n",
    "    else:\n",
    "        print('Test 2a - FAILED')\n",
    "\n",
    "def test2b():\n",
    "    filename = 'test2.txt'\n",
    "    f = open(filename, 'r+')\n",
    "    f.write('....')\n",
    "    f.readline()\n",
    "    if compare('test2.txt', 'test2_corr.txt'):\n",
    "        print('Test 2b - PASSED')\n",
    "    else:\n",
    "        print('Test 2b - FAILED')\n",
    "\n",
    "def test2c():\n",
    "    filename = 'test2.txt'\n",
    "    f = open(filename, 'r+')\n",
    "    f.write('....')\n",
    "    f.readline(3)\n",
    "    if compare('test2.txt', 'test2_corr.txt'):\n",
    "        print('Test 2c - PASSED')\n",
    "    else:\n",
    "        print('Test 2c - FAILED')\n",
    "\n",
    "\n"
   ]
  },
  {
   "cell_type": "code",
   "execution_count": 3,
   "metadata": {},
   "outputs": [
    {
     "name": "stdout",
     "output_type": "stream",
     "text": [
      "Test 1a - FAILED\n",
      "Test 1b - PASSED\n",
      "Test 2a - PASSED\n",
      "Test 2b - FAILED\n",
      "Test 2c - FAILED\n"
     ]
    }
   ],
   "source": [
    "test1a()\n",
    "restore(['test1.txt', 'test2.txt'], ['test1_orig.txt', 'test2_orig.txt'])\n",
    "test1b()\n",
    "restore(['test1.txt', 'test2.txt'], ['test1_orig.txt', 'test2_orig.txt'])\n",
    "test2a()\n",
    "restore(['test1.txt', 'test2.txt'], ['test1_orig.txt', 'test2_orig.txt'])\n",
    "test2b()\n",
    "restore(['test1.txt', 'test2.txt'], ['test1_orig.txt', 'test2_orig.txt'])\n",
    "test2c()"
   ]
  }
 ],
 "metadata": {
  "kernelspec": {
   "display_name": "env",
   "language": "python",
   "name": "python3"
  },
  "language_info": {
   "codemirror_mode": {
    "name": "ipython",
    "version": 3
   },
   "file_extension": ".py",
   "mimetype": "text/x-python",
   "name": "python",
   "nbconvert_exporter": "python",
   "pygments_lexer": "ipython3",
   "version": "3.10.9"
  }
 },
 "nbformat": 4,
 "nbformat_minor": 2
}
