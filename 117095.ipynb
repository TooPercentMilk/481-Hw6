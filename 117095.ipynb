{
 "cells": [
  {
   "cell_type": "code",
   "execution_count": 12,
   "metadata": {},
   "outputs": [],
   "source": [
    "with open('test1.txt', 'w') as dest_file:\n",
    "    dest_file.write(\"blah\")"
   ]
  },
  {
   "cell_type": "code",
   "execution_count": 29,
   "metadata": {},
   "outputs": [],
   "source": [
    "def compare(file1, file2):\n",
    "    with open(file1, 'r') as file1:\n",
    "        content1 = file1.read()\n",
    "    with open(file2, 'r') as file2:\n",
    "        content2 = file2.read()\n",
    "    if content1 == content2:\n",
    "        return True\n",
    "    else:\n",
    "        return False\n",
    "\n",
    "def replace(modified, original):\n",
    "    with open(original, 'r') as src_file:\n",
    "        content = src_file.read()\n",
    "    with open(modified, 'w') as dest_file:\n",
    "        dest_file.write(content)\n",
    "\n",
    "\n",
    "def test1a():\n",
    "    filename = 'test1.txt'\n",
    "    with open(filename, \"r+\") as my_file:\n",
    "        my_file.write(\"========\")\n",
    "        r = my_file.readline()\n",
    "    if compare('test1.txt', 'test1_corr.txt'):\n",
    "        print('Test 1a - PASSED')\n",
    "    else:\n",
    "        print('Test 1a - FAILED')\n",
    "    replace('test1.txt', 'test1_orig.txt')\n",
    "\n",
    "\n",
    "def test1b():\n",
    "    filename = 'test1.txt'\n",
    "    with open(filename, \"r+\") as my_file:\n",
    "        my_file.write(\"========\")\n",
    "    if compare('test1.txt', 'test1_corr.txt'):\n",
    "        print('Test 1a - PASSED')\n",
    "    else:\n",
    "        print('Test 1a - FAILED')\n",
    "    replace('test1.txt', 'test1_orig.txt')\n"
   ]
  },
  {
   "cell_type": "code",
   "execution_count": 30,
   "metadata": {},
   "outputs": [
    {
     "name": "stdout",
     "output_type": "stream",
     "text": [
      "Test 1a - FAILED\n",
      "Test 1a - PASSED\n"
     ]
    }
   ],
   "source": [
    "test1a()\n",
    "test1b()"
   ]
  }
 ],
 "metadata": {
  "kernelspec": {
   "display_name": "env",
   "language": "python",
   "name": "python3"
  },
  "language_info": {
   "codemirror_mode": {
    "name": "ipython",
    "version": 3
   },
   "file_extension": ".py",
   "mimetype": "text/x-python",
   "name": "python",
   "nbconvert_exporter": "python",
   "pygments_lexer": "ipython3",
   "version": "3.10.9"
  }
 },
 "nbformat": 4,
 "nbformat_minor": 2
}
